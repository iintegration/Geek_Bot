{
 "cells": [
  {
   "cell_type": "code",
   "execution_count": 6,
   "metadata": {},
   "outputs": [],
   "source": [
    "import pandas as pd\n",
    "import numpy as np\n",
    "import re\n",
    "import spacy\n",
    "from nltk.corpus import stopwords\n",
    "\n",
    "from natasha import (\n",
    "    Segmenter,\n",
    "    MorphVocab,\n",
    "    \n",
    "    NewsEmbedding,\n",
    "    NewsMorphTagger,\n",
    "    NewsSyntaxParser,\n",
    "   \n",
    "    PER,\n",
    "    Doc\n",
    ")\n",
    "\n",
    "from typing import List, Union"
   ]
  },
  {
   "cell_type": "code",
   "execution_count": 7,
   "metadata": {},
   "outputs": [],
   "source": [
    "\n",
    "class Model:\n",
    "    def __init__(self, model_path = \"\"):\n",
    "        self.model_path = model_path\n",
    "\n",
    "        self.nlp = spacy.load(model_path)\n",
    "\n",
    "\n",
    "        self.segmenter = Segmenter()\n",
    "        self.morph_vocab = MorphVocab()\n",
    "        self.emb = NewsEmbedding()\n",
    "        self.morph_tagger = NewsMorphTagger(self.emb)\n",
    "        self.syntax_parser = NewsSyntaxParser(self.emb)\n",
    "\n",
    "    def __natasha_lemmant(self, input_str):\n",
    "\n",
    "        doc = Doc(input_str)\n",
    "        doc.segment(self.segmenter)\n",
    "        doc.tag_morph(self.morph_tagger)\n",
    "        doc.parse_syntax(self.syntax_parser)\n",
    "        for token in doc.tokens:\n",
    "            token.lemmatize(self.morph_vocab)\n",
    "\n",
    "        result = ' '.join([_.lemma for _ in doc.tokens])\n",
    "        return result\n",
    "\n",
    "\n",
    "\n",
    "    def __clear_string(self, s, stop_words): # Функция для очистки\n",
    "        # print(re.sub(r'[^а-яА-ЯёЁa-zA-Z]', ' ', str(s).lower()).split())\n",
    "        s = ' '.join([val for val in re.sub(r'[^а-яА-ЯёЁ]', ' ', str(s).lower()).split() if not val in stop_words])\n",
    "        # s = ' '.join([val for val in re.sub(r'[^а-яА-ЯёЁ]', ' ', str(s).lower()).split() if not val in stop_words])\n",
    "        return s\n",
    "\n",
    "    def __preprocessing(self, answer):\n",
    "        stop_words = list(stopwords.words('russian'))\n",
    "        \n",
    "        text_list = []\n",
    "\n",
    "        for i in range(len(answer)):\n",
    "            txt = answer[i]['question_2'] + \" \" + answer[i]['question_3'] + \" \" + answer[i]['question_4'] + \" \" + answer[i]['question_5']\n",
    "            txt = self.__clear_string(txt, stop_words)\n",
    "            txt = self.__natasha_lemmant(txt)\n",
    "            text_list.append(txt)\n",
    "\n",
    "        return text_list\n",
    "\n",
    "    def predict(self, answers: list) -> List[int]:\n",
    "        \n",
    "        # Очищаем текст\n",
    "        answers = self.__preprocessing(answers)\n",
    "\n",
    "        labels = []\n",
    "\n",
    "        for ans in answers:\n",
    "            # print(self.nlp(ans).vector.shape)\n",
    "\n",
    "            proba = self.nlp(ans).cats\n",
    "            # sum_proba = sum(proba)\n",
    "            # proba = np.array([el/sum_proba for el in proba])\n",
    "\n",
    "            labels.append(int(max(proba, key=proba.get)))\n",
    "\n",
    "        return labels\n"
   ]
  },
  {
   "cell_type": "code",
   "execution_count": 10,
   "metadata": {},
   "outputs": [
    {
     "data": {
      "text/html": [
       "<div>\n",
       "<style scoped>\n",
       "    .dataframe tbody tr th:only-of-type {\n",
       "        vertical-align: middle;\n",
       "    }\n",
       "\n",
       "    .dataframe tbody tr th {\n",
       "        vertical-align: top;\n",
       "    }\n",
       "\n",
       "    .dataframe thead th {\n",
       "        text-align: right;\n",
       "    }\n",
       "</style>\n",
       "<table border=\"1\" class=\"dataframe\">\n",
       "  <thead>\n",
       "    <tr style=\"text-align: right;\">\n",
       "      <th></th>\n",
       "      <th>key</th>\n",
       "      <th>is_relevant</th>\n",
       "      <th>object</th>\n",
       "      <th>is_positive</th>\n",
       "    </tr>\n",
       "  </thead>\n",
       "  <tbody>\n",
       "    <tr>\n",
       "      <th>0</th>\n",
       "      <td>1</td>\n",
       "      <td>0</td>\n",
       "      <td>0</td>\n",
       "      <td>0</td>\n",
       "    </tr>\n",
       "    <tr>\n",
       "      <th>1</th>\n",
       "      <td>2</td>\n",
       "      <td>0</td>\n",
       "      <td>0</td>\n",
       "      <td>0</td>\n",
       "    </tr>\n",
       "    <tr>\n",
       "      <th>2</th>\n",
       "      <td>3</td>\n",
       "      <td>0</td>\n",
       "      <td>0</td>\n",
       "      <td>0</td>\n",
       "    </tr>\n",
       "  </tbody>\n",
       "</table>\n",
       "</div>"
      ],
      "text/plain": [
       "   key  is_relevant  object  is_positive\n",
       "0    1            0       0            0\n",
       "1    2            0       0            0\n",
       "2    3            0       0            0"
      ]
     },
     "execution_count": 10,
     "metadata": {},
     "output_type": "execute_result"
    }
   ],
   "source": [
    "data = pd.DataFrame({\"key\":[1, 2, 3], \"is_relevant\": [0, 0, 0], \"object\":[0, 0, 0], \"is_positive\": [0, 0, 0]})\n",
    "data"
   ]
  },
  {
   "cell_type": "code",
   "execution_count": 12,
   "metadata": {},
   "outputs": [
    {
     "data": {
      "text/html": [
       "<div>\n",
       "<style scoped>\n",
       "    .dataframe tbody tr th:only-of-type {\n",
       "        vertical-align: middle;\n",
       "    }\n",
       "\n",
       "    .dataframe tbody tr th {\n",
       "        vertical-align: top;\n",
       "    }\n",
       "\n",
       "    .dataframe thead th {\n",
       "        text-align: right;\n",
       "    }\n",
       "</style>\n",
       "<table border=\"1\" class=\"dataframe\">\n",
       "  <thead>\n",
       "    <tr style=\"text-align: right;\">\n",
       "      <th></th>\n",
       "      <th>key</th>\n",
       "      <th>is_relevant</th>\n",
       "      <th>object</th>\n",
       "      <th>is_positive</th>\n",
       "    </tr>\n",
       "  </thead>\n",
       "  <tbody>\n",
       "    <tr>\n",
       "      <th>0</th>\n",
       "      <td>1</td>\n",
       "      <td>0</td>\n",
       "      <td>0</td>\n",
       "      <td>1</td>\n",
       "    </tr>\n",
       "    <tr>\n",
       "      <th>1</th>\n",
       "      <td>2</td>\n",
       "      <td>0</td>\n",
       "      <td>0</td>\n",
       "      <td>2</td>\n",
       "    </tr>\n",
       "    <tr>\n",
       "      <th>2</th>\n",
       "      <td>3</td>\n",
       "      <td>0</td>\n",
       "      <td>0</td>\n",
       "      <td>3</td>\n",
       "    </tr>\n",
       "  </tbody>\n",
       "</table>\n",
       "</div>"
      ],
      "text/plain": [
       "   key  is_relevant  object  is_positive\n",
       "0    1            0       0            1\n",
       "1    2            0       0            2\n",
       "2    3            0       0            3"
      ]
     },
     "execution_count": 12,
     "metadata": {},
     "output_type": "execute_result"
    }
   ],
   "source": [
    "data[\"is_positive\"] = pd.Series([1, 2, 3])\n",
    "data"
   ]
  },
  {
   "cell_type": "code",
   "execution_count": 3,
   "metadata": {},
   "outputs": [],
   "source": [
    "object_cats = Model(model_path=\"models\\\\best_model_positive\")"
   ]
  },
  {
   "cell_type": "code",
   "execution_count": 4,
   "metadata": {},
   "outputs": [
    {
     "data": {
      "text/plain": [
       "[0]"
      ]
     },
     "execution_count": 4,
     "metadata": {},
     "output_type": "execute_result"
    }
   ],
   "source": [
    "object_cats.predict([{\"question_1\":\"Новейшие тенденции в IT\",\"question_2\":\"Дискуссия о будущем облачных вычислений и их влиянии на ИТ-индустрию была очень проницательной.\",\"question_3\":\"Нет.\",\"question_4\":\"Включить больше кейс-стади от компаний, успешно интегрировавших облачные решения.\",\"question_5\":\"Стратегии миграции предприятий в облако.\"}])"
   ]
  },
  {
   "cell_type": "code",
   "execution_count": 28,
   "metadata": {},
   "outputs": [
    {
     "data": {
      "text/plain": [
       "[1]"
      ]
     },
     "execution_count": 28,
     "metadata": {},
     "output_type": "execute_result"
    }
   ],
   "source": [
    "object_cats.predict([{\"question_1\":\"Новейшие тенденции в IT\",\"question_2\":\"Дискуссия о будущем облачных вычислений и их влиянии на ИТ-индустрию была очень проницательной.\",\"question_3\":\"Нет.\",\"question_4\":\"Включить больше кейс-стади от компаний, успешно интегрировавших облачные решения.\",\"question_5\":\"Стратегии миграции предприятий в облако.\"}])"
   ]
  },
  {
   "cell_type": "code",
   "execution_count": 50,
   "metadata": {},
   "outputs": [],
   "source": [
    "test = {\"analysis_result\": [\n",
    "    {\n",
    "      \"user_id\": 1229352473,\n",
    "      \"answers\": {\n",
    "        \"1\": \"Разработка на Next JS\",\n",
    "        \"2\": \"Разнообразие информации и подробное описание как работать с технологиями\",\n",
    "        \"3\": \"Пока не было\",\n",
    "        \"4\": \"Хотелось бы увидеть более удобный интерфейс для взаимодействия между сервисом и пользователем\",\n",
    "        \"5\": \"Backend разработка на Node JS\"\n",
    "      }\n",
    "    },\n",
    "    {\n",
    "      \"user_id\": 1321034543,\n",
    "      \"answers\": {\n",
    "        \"1\": \"Победители Цифрового прорыва\",\n",
    "        \"2\": \"Больше всего мне понравились сказочные истории, про мечтателей, которые захотели выиграть хакатон когда их фронт отвалился спать+работать\",\n",
    "        \"3\": \"Максимально затруднительно работать, когда фронт лежит\",\n",
    "        \"4\": \"Я считаю, что нам надо улучшить фронтендера, пусть затаривается энергосами - его ждет бессонная ночь\",\n",
    "        \"5\": \"Я бы хотел изучить методы пинания фронтэндеров\"\n",
    "      }\n",
    "    }\n",
    "  ]}"
   ]
  },
  {
   "cell_type": "code",
   "execution_count": 51,
   "metadata": {},
   "outputs": [
    {
     "data": {
      "text/plain": [
       "[{'1': 'Разработка на Next JS',\n",
       "  '2': 'Разнообразие информации и подробное описание как работать с технологиями',\n",
       "  '3': 'Пока не было',\n",
       "  '4': 'Хотелось бы увидеть более удобный интерфейс для взаимодействия между сервисом и пользователем',\n",
       "  '5': 'Backend разработка на Node JS'},\n",
       " {'1': 'Победители Цифрового прорыва',\n",
       "  '2': 'Больше всего мне понравились сказочные истории, про мечтателей, которые захотели выиграть хакатон когда их фронт отвалился спать+работать',\n",
       "  '3': 'Максимально затруднительно работать, когда фронт лежит',\n",
       "  '4': 'Я считаю, что нам надо улучшить фронтендера, пусть затаривается энергосами - его ждет бессонная ночь',\n",
       "  '5': 'Я бы хотел изучить методы пинания фронтэндеров'}]"
      ]
     },
     "execution_count": 51,
     "metadata": {},
     "output_type": "execute_result"
    }
   ],
   "source": [
    "[val['answers'] for val in test[\"analysis_result\"]]"
   ]
  },
  {
   "cell_type": "code",
   "execution_count": 52,
   "metadata": {},
   "outputs": [
    {
     "data": {
      "text/plain": [
       "'1'"
      ]
     },
     "execution_count": 52,
     "metadata": {},
     "output_type": "execute_result"
    }
   ],
   "source": [
    "test = {'1': 0.6963162660598755, '2': 0.3210538327693939, '0': 0.3826298415660858, }\n",
    "max(test, key=test.get)"
   ]
  },
  {
   "cell_type": "code",
   "execution_count": null,
   "metadata": {},
   "outputs": [],
   "source": []
  }
 ],
 "metadata": {
  "kernelspec": {
   "display_name": ".venv",
   "language": "python",
   "name": "python3"
  },
  "language_info": {
   "codemirror_mode": {
    "name": "ipython",
    "version": 3
   },
   "file_extension": ".py",
   "mimetype": "text/x-python",
   "name": "python",
   "nbconvert_exporter": "python",
   "pygments_lexer": "ipython3",
   "version": "3.10.5"
  }
 },
 "nbformat": 4,
 "nbformat_minor": 2
}
